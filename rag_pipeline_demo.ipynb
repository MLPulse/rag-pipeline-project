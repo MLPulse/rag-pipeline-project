{
 "cells": [
  {
   "cell_type": "code",
   "execution_count": null,
   "metadata": {},
   "outputs": [],
   "source": [
    "# RAG Pipeline Demonstration\n",
    "# This notebook demonstrates the Retrieval-Augmented Generation (RAG) pipeline for querying over PDF documents.\n",
    "\n",
    "# Import Required Modules\n",
    "from src.extract_text import extract_text_from_pdf\n",
    "from src.generate_embeddings import generate_embeddings\n",
    "from src.store_embeddings import store_embedding\n",
    "from src.query_retrieval import retrieve_relevant_chunks\n",
    "from src.generate_response import generate_response"
   ]
  },
  {
   "cell_type": "code",
   "execution_count": null,
   "metadata": {},
   "outputs": [],
   "source": [
    "# Extract Text from PDF\n",
    "# Specify the PDF file\n",
    "pdf_path = 'data/sample.pdf'"
   ]
  },
  {
   "cell_type": "code",
   "execution_count": null,
   "metadata": {},
   "outputs": [],
   "source": [
    "# Extract text\n",
    "text = extract_text_from_pdf(pdf_path)\n",
    "print(text)"
   ]
  },
  {
   "cell_type": "code",
   "execution_count": null,
   "metadata": {},
   "outputs": [],
   "source": [
    "# Generate Embeddings\n",
    "# Generate embeddings for the extracted text\n",
    "embedding = generate_embeddings(text)\n",
    "print(embedding)"
   ]
  },
  {
   "cell_type": "code",
   "execution_count": null,
   "metadata": {},
   "outputs": [],
   "source": [
    "# Store Embeddings\n",
    "# Store the generated embeddings in the SQLite database\n",
    "store_embedding(text, embedding)"
   ]
  },
  {
   "cell_type": "code",
   "execution_count": null,
   "metadata": {},
   "outputs": [],
   "source": [
    "# Query and Retrieve Chunks\n",
    "# Input a query to retrieve relevant text chunks\n",
    "query = \"What is the main topic of the document?\"\n",
    "chunks = retrieve_relevant_chunks(query)\n",
    "print(chunks)"
   ]
  },
  {
   "cell_type": "code",
   "execution_count": null,
   "metadata": {},
   "outputs": [],
   "source": [
    "# Generate Response\n",
    "# Generate a response based on the retrieved chunks\n",
    "response = generate_response(chunks,query)\n",
    "print(response)"
   ]
  }
 ],
 "metadata": {
  "language_info": {
   "name": "python"
  }
 },
 "nbformat": 4,
 "nbformat_minor": 2
}
